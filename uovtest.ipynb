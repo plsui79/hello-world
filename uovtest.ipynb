{
  "nbformat": 4,
  "nbformat_minor": 0,
  "metadata": {
    "colab": {
      "name": "uovtest.ipynb",
      "version": "0.3.2",
      "provenance": [],
      "include_colab_link": true
    },
    "kernelspec": {
      "name": "python3",
      "display_name": "Python 3"
    }
  },
  "cells": [
    {
      "cell_type": "markdown",
      "metadata": {
        "id": "view-in-github",
        "colab_type": "text"
      },
      "source": [
        "<a href=\"https://colab.research.google.com/github/plsui79/hello-world/blob/master/uovtest.ipynb\" target=\"_parent\"><img src=\"https://colab.research.google.com/assets/colab-badge.svg\" alt=\"Open In Colab\"/></a>"
      ]
    },
    {
      "cell_type": "code",
      "metadata": {
        "id": "L8b_Ix_p7JpF",
        "colab_type": "code",
        "colab": {}
      },
      "source": [
        "import numpy as np\n",
        "import pandas as pd\n",
        "from matplotlib import rc\n",
        "rc('font', family='Malgun Gothic')  # 윈도우\n",
        "%matplotlib inline"
      ],
      "execution_count": 0,
      "outputs": []
    },
    {
      "cell_type": "code",
      "metadata": {
        "id": "PUazG2xc7gnG",
        "colab_type": "code",
        "colab": {}
      },
      "source": [
        "import openpyxl\n",
        "sheetList=[]\n",
        "xlsxfile=\"./test.xlsx\""
      ],
      "execution_count": 0,
      "outputs": []
    },
    {
      "cell_type": "code",
      "metadata": {
        "id": "cRWOfcDo7gqO",
        "colab_type": "code",
        "colab": {}
      },
      "source": [
        "wb=openpyxl.load_workbook(xlsxfile)"
      ],
      "execution_count": 0,
      "outputs": []
    },
    {
      "cell_type": "code",
      "metadata": {
        "id": "qugC2wdP7gte",
        "colab_type": "code",
        "colab": {}
      },
      "source": [
        "for i in wb.sheetnames:\n",
        "    sheetList.append(i)\n",
        "    print(i)"
      ],
      "execution_count": 0,
      "outputs": []
    },
    {
      "cell_type": "code",
      "metadata": {
        "id": "zBih78337gwG",
        "colab_type": "code",
        "colab": {}
      },
      "source": [
        "xlsx=pd.ExcelFile(xlsxfile)"
      ],
      "execution_count": 0,
      "outputs": []
    },
    {
      "cell_type": "code",
      "metadata": {
        "id": "0uLlLxuw7g16",
        "colab_type": "code",
        "colab": {}
      },
      "source": [
        "import sys\n",
        "mod=sys.modules[__name__]"
      ],
      "execution_count": 0,
      "outputs": []
    },
    {
      "cell_type": "code",
      "metadata": {
        "id": "5d1cRoqG7g72",
        "colab_type": "code",
        "colab": {}
      },
      "source": [
        "for z, j in enumerate(sheetList):\n",
        "    setattr(mod,'df{}'.format(z+1),np.array(pd.read_excel(xlsx,sheet_name=j)))"
      ],
      "execution_count": 0,
      "outputs": []
    },
    {
      "cell_type": "code",
      "metadata": {
        "id": "dxBgR0VD7g-_",
        "colab_type": "code",
        "colab": {}
      },
      "source": [
        "len(sheetList)"
      ],
      "execution_count": 0,
      "outputs": []
    },
    {
      "cell_type": "code",
      "metadata": {
        "id": "a1tx41kd7hB5",
        "colab_type": "code",
        "colab": {}
      },
      "source": [
        "df1"
      ],
      "execution_count": 0,
      "outputs": []
    },
    {
      "cell_type": "code",
      "metadata": {
        "id": "f9bjo2NU7hX8",
        "colab_type": "code",
        "colab": {}
      },
      "source": [
        "df2"
      ],
      "execution_count": 0,
      "outputs": []
    },
    {
      "cell_type": "code",
      "metadata": {
        "id": "Q4YSR9l87hkw",
        "colab_type": "code",
        "colab": {}
      },
      "source": [
        "df3"
      ],
      "execution_count": 0,
      "outputs": []
    },
    {
      "cell_type": "code",
      "metadata": {
        "id": "HLjSxrZa7hfh",
        "colab_type": "code",
        "colab": {}
      },
      "source": [
        "df1_X=np.array([df1, \n",
        "                df2,\n",
        "                df3]);df1_X"
      ],
      "execution_count": 0,
      "outputs": []
    },
    {
      "cell_type": "code",
      "metadata": {
        "id": "3Erk7ck67hUe",
        "colab_type": "code",
        "colab": {}
      },
      "source": [
        "df1_X.shape"
      ],
      "execution_count": 0,
      "outputs": []
    },
    {
      "cell_type": "code",
      "metadata": {
        "id": "StoRyaWh7hRj",
        "colab_type": "code",
        "colab": {}
      },
      "source": [
        "list_y=[]"
      ],
      "execution_count": 0,
      "outputs": []
    },
    {
      "cell_type": "code",
      "metadata": {
        "id": "wwHm5t8P7hOP",
        "colab_type": "code",
        "colab": {}
      },
      "source": [
        "for y in range(len(sheetList)):\n",
        "    list_y.append('A')"
      ],
      "execution_count": 0,
      "outputs": []
    },
    {
      "cell_type": "code",
      "metadata": {
        "id": "xG_TXr0e7hLB",
        "colab_type": "code",
        "colab": {}
      },
      "source": [
        "df1_y=np.array(list_y)"
      ],
      "execution_count": 0,
      "outputs": []
    },
    {
      "cell_type": "code",
      "metadata": {
        "id": "rMofX8i87hHs",
        "colab_type": "code",
        "colab": {}
      },
      "source": [
        "df1_y.shape"
      ],
      "execution_count": 0,
      "outputs": []
    },
    {
      "cell_type": "code",
      "metadata": {
        "id": "Fghlg1Ko72pw",
        "colab_type": "code",
        "colab": {}
      },
      "source": [
        "df1_y"
      ],
      "execution_count": 0,
      "outputs": []
    },
    {
      "cell_type": "code",
      "metadata": {
        "id": "0zwdP9GD73PP",
        "colab_type": "code",
        "colab": {}
      },
      "source": [
        "np.savez('C:\\\\Users\\\\jparkc\\\\test',x=df1_X,y=df1_y)"
      ],
      "execution_count": 0,
      "outputs": []
    },
    {
      "cell_type": "code",
      "metadata": {
        "id": "Djfmidd373SQ",
        "colab_type": "code",
        "colab": {}
      },
      "source": [
        ""
      ],
      "execution_count": 0,
      "outputs": []
    },
    {
      "cell_type": "code",
      "metadata": {
        "id": "iqqnbN3B73VW",
        "colab_type": "code",
        "colab": {}
      },
      "source": [
        ""
      ],
      "execution_count": 0,
      "outputs": []
    },
    {
      "cell_type": "code",
      "metadata": {
        "id": "Kg9y2_yQ7hEw",
        "colab_type": "code",
        "colab": {}
      },
      "source": [
        ""
      ],
      "execution_count": 0,
      "outputs": []
    }
  ]
}